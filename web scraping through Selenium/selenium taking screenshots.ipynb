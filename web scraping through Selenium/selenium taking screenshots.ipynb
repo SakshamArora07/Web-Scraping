{
 "cells": [
  {
   "cell_type": "code",
   "execution_count": 1,
   "id": "295443c7-802f-4905-8965-ae064c9e6e6e",
   "metadata": {},
   "outputs": [
    {
     "name": "stderr",
     "output_type": "stream",
     "text": [
      "C:\\Users\\saksh\\AppData\\Local\\Programs\\Python\\Python311\\Lib\\site-packages\\selenium\\webdriver\\remote\\webdriver.py:1224: UserWarning: name used for saved screenshot does not match file type. It should end with a `.png` extension\n",
      "  warnings.warn(\"name used for saved screenshot does not match file \"\n"
     ]
    },
    {
     "data": {
      "text/plain": [
       "True"
      ]
     },
     "execution_count": 1,
     "metadata": {},
     "output_type": "execute_result"
    }
   ],
   "source": [
    "from selenium import webdriver\n",
    "from selenium.webdriver.chrome.service import Service\n",
    "from selenium.webdriver.common.keys import Keys\n",
    "import time\n",
    "\n",
    "# Update the path to the chromedriver.exe file\n",
    "chrome_driver_path = 'C:/Users/saksh/OneDrive/Documents/web scraping/chromedriver-win32/chromedriver-win32/chromedriver.exe'\n",
    "\n",
    "s = Service(chrome_driver_path)\n",
    "\n",
    "driver = webdriver.Chrome(service=s)\n",
    "driver.get(\"https://www.google.com/\")\n",
    "time.sleep(5)\n",
    "\n",
    "# screenshot of the whole page\n",
    "driver.save_screenshot(\"C:/Users/saksh/OneDrive/Documents/web scraping/screenshot.jpg\") # \"C:/Users/saksh/OneDrive/Documents/web scraping = PATH \n",
    "# /screenshot.jpg = FILE NAME AND EXTENSION WITH WHICH YOU WANT TO SAVE THE SCREENSHOT\"\n",
    "\n"
   ]
  },
  {
   "cell_type": "code",
   "execution_count": null,
   "id": "2b789b85-5c21-4eb8-b84c-b0205630e366",
   "metadata": {},
   "outputs": [],
   "source": [
    "# screenshot of a specific element\n",
    "chrome_driver_path = 'C:/Users/saksh/OneDrive/Documents/web scraping/chromedriver-win32/chromedriver-win32/chromedriver.exe'\n",
    "\n",
    "s = Service(chrome_driver_path)\n",
    "\n",
    "driver = webdriver.Chrome(service=s)\n",
    "driver.get(\"https://www.tutorialsfreak.com/\")\n",
    "time.sleep(2)\n",
    "\n",
    "driver.find_element_by_xpath(\"\"\"/html/body/div[1]/div[2]/div[1]/section[1]/div/div[2]/div[3]/a/img\"\"\").screenshot(\"C:/Users/saksh/OneDrive/Documents/web scraping/specificelementscreenshot.jpg\")"
   ]
  },
  {
   "cell_type": "code",
   "execution_count": null,
   "id": "85fe47bc-11c9-4590-abe1-17d5bbf79296",
   "metadata": {},
   "outputs": [],
   "source": []
  }
 ],
 "metadata": {
  "kernelspec": {
   "display_name": "Python 3 (ipykernel)",
   "language": "python",
   "name": "python3"
  },
  "language_info": {
   "codemirror_mode": {
    "name": "ipython",
    "version": 3
   },
   "file_extension": ".py",
   "mimetype": "text/x-python",
   "name": "python",
   "nbconvert_exporter": "python",
   "pygments_lexer": "ipython3",
   "version": "3.11.4"
  }
 },
 "nbformat": 4,
 "nbformat_minor": 5
}
