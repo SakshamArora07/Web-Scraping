{
 "cells": [
  {
   "cell_type": "code",
   "execution_count": 1,
   "id": "73711ed1-6c55-4364-81c6-1323ec352ea5",
   "metadata": {},
   "outputs": [
    {
     "name": "stdout",
     "output_type": "stream",
     "text": [
      "3510\n"
     ]
    }
   ],
   "source": [
    "from selenium import webdriver\n",
    "from selenium.webdriver.chrome.service import Service\n",
    "from selenium.webdriver.common.keys import Keys\n",
    "import time\n",
    "\n",
    "chrome_driver_path = 'C:/Users/saksh/OneDrive/Documents/web scraping/chromedriver-win32/chromedriver-win32/chromedriver.exe'\n",
    "\n",
    "s = Service(chrome_driver_path)\n",
    "\n",
    "driver = webdriver.Chrome(service=s)\n",
    "driver.get(\"https://www.google.com/search?q=pandas&sca_esv=573286985&tbm=isch&sxsrf=AM9HkKks6vAZevAJjhCUPK2gD06DZkn6xQ:1697228255478&source=lnms&sa=X&ved=2ahUKEwih1ZT66_OBAxU9cmwGHX13DXoQ_AUoAXoECAEQAw&biw=982&bih=739&dpr=1.25\")\n",
    "time.sleep(2)\n",
    "\n",
    "# height of the page till where to scroll once\n",
    "height = driver.execute_script(\"return document.body.scrollHeight\")\n",
    "print(height)"
   ]
  },
  {
   "cell_type": "code",
   "execution_count": null,
   "id": "fcf91963-e9aa-41a7-8528-ef3784cd4fe1",
   "metadata": {},
   "outputs": [],
   "source": [
    "# scrolling once then loading again and again same height to scroll\n",
    "while True :\n",
    "    driver.execute_script(\"window.scrollTo(0,document.body.scrollHeight)\") # (0,height till where you want to scroll-in this case the whole page)"
   ]
  },
  {
   "cell_type": "code",
   "execution_count": null,
   "id": "394139df-c5e9-4166-acb1-2851fd141e74",
   "metadata": {},
   "outputs": [],
   "source": []
  }
 ],
 "metadata": {
  "kernelspec": {
   "display_name": "Python 3 (ipykernel)",
   "language": "python",
   "name": "python3"
  },
  "language_info": {
   "codemirror_mode": {
    "name": "ipython",
    "version": 3
   },
   "file_extension": ".py",
   "mimetype": "text/x-python",
   "name": "python",
   "nbconvert_exporter": "python",
   "pygments_lexer": "ipython3",
   "version": "3.11.4"
  }
 },
 "nbformat": 4,
 "nbformat_minor": 5
}
