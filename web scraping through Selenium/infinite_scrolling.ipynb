{
 "cells": [
  {
   "cell_type": "code",
   "execution_count": 11,
   "id": "36265ffe-46da-4a79-936b-a2ae810469c3",
   "metadata": {},
   "outputs": [
    {
     "name": "stdout",
     "output_type": "stream",
     "text": [
      "8982\n"
     ]
    }
   ],
   "source": [
    "# infinite scrolling means the website loads new products as soon as you reach the end of a page like AJIO unlike AMAZON which gives you the option\n",
    "# to go to next page using buttons\n",
    "\n",
    "from selenium import webdriver\n",
    "from selenium.webdriver.chrome.service import Service\n",
    "from selenium.webdriver.common.keys import Keys\n",
    "import time\n",
    "\n",
    "chrome_driver_path = 'C:/Users/saksh/OneDrive/Documents/web scraping/chromedriver-win32/chromedriver-win32/chromedriver.exe'\n",
    "\n",
    "s = Service(chrome_driver_path)\n",
    "\n",
    "driver = webdriver.Chrome(service=s)\n",
    "driver.get(\"https://luxe.ajio.com/search/?text=sneakers\")\n",
    "time.sleep(10)\n",
    "\n",
    "while True :\n",
    "    height = driver.execute_script(\"return document.body.scrollHeight\")\n",
    "    print(height)\n",
    "\n",
    "    driver.execute_script(\"window.scrollTo(0,document.body.scrollHeight)\")\n",
    "\n",
    "    new_height = driver.execute_script(\"return document.body.scrollHeight\")\n",
    "    if height == new_height :\n",
    "        break"
   ]
  },
  {
   "cell_type": "code",
   "execution_count": null,
   "id": "374b5dae-e9bc-4fce-b3f8-545a8b96a2a3",
   "metadata": {},
   "outputs": [],
   "source": []
  }
 ],
 "metadata": {
  "kernelspec": {
   "display_name": "Python 3 (ipykernel)",
   "language": "python",
   "name": "python3"
  },
  "language_info": {
   "codemirror_mode": {
    "name": "ipython",
    "version": 3
   },
   "file_extension": ".py",
   "mimetype": "text/x-python",
   "name": "python",
   "nbconvert_exporter": "python",
   "pygments_lexer": "ipython3",
   "version": "3.11.4"
  }
 },
 "nbformat": 4,
 "nbformat_minor": 5
}
