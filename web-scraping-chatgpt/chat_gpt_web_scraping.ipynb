{
 "cells": [
  {
   "cell_type": "markdown",
   "id": "0841ebb4-7667-4587-89a6-5c2defe7d1e7",
   "metadata": {},
   "source": [
    "## Prompt for Chat GPT\n",
    "\n",
    "with python,\n",
    "read file amazon.html and parse it with BeautifulSoup\n",
    "\n",
    "find all -\n",
    "div with class = \"sg-col-20-of-24 s-result-item s-asin sg-col-0-of-12 sg-col-16-of-20 AdHolder sg-col s-widget-spacing-small sg-col-12-of-16\"\n",
    "for all the divs\n",
    "\n",
    "\n",
    "for all the divs -\n",
    "\n",
    "try : find span tag with class-\n",
    "span class=\"a-size-medium a-color-base a-text-normal\"\n",
    "and store it in product_name\n",
    "except : product_name = \" \"\n",
    "\n",
    "try : find span tag with class - \n",
    "span class=\"a-price-whole\" \n",
    "and store it to prouct_price\n",
    "except : product_price = \" \"\n",
    "\n",
    "try : find span tag with class -\n",
    "span class =\"a-row a-size-small\"\n",
    "and store it to no_of_stars\n",
    "except : no_of_stars = \" \"\n",
    "\n",
    "open an excel file and write product_name,product_price and no_of_stars\n"
   ]
  },
  {
   "cell_type": "code",
   "execution_count": 1,
   "id": "82576494-ca9b-4bcf-b122-dbf7103b8b01",
   "metadata": {
    "scrolled": true
   },
   "outputs": [
    {
     "name": "stdout",
     "output_type": "stream",
     "text": [
      "Requirement already satisfied: beautifulsoup4 in c:\\users\\saksh\\appdata\\local\\programs\\python\\python311\\lib\\site-packages (4.12.2)"
     ]
    },
    {
     "name": "stderr",
     "output_type": "stream",
     "text": [
      "\n",
      "[notice] A new release of pip is available: 23.2.1 -> 23.3.1\n",
      "[notice] To update, run: python.exe -m pip install --upgrade pip\n"
     ]
    },
    {
     "name": "stdout",
     "output_type": "stream",
     "text": [
      "\n",
      "Requirement already satisfied: openpyxl in c:\\users\\saksh\\appdata\\local\\programs\\python\\python311\\lib\\site-packages (3.1.2)\n",
      "Requirement already satisfied: soupsieve>1.2 in c:\\users\\saksh\\appdata\\local\\programs\\python\\python311\\lib\\site-packages (from beautifulsoup4) (2.5)\n",
      "Requirement already satisfied: et-xmlfile in c:\\users\\saksh\\appdata\\local\\programs\\python\\python311\\lib\\site-packages (from openpyxl) (1.1.0)\n"
     ]
    }
   ],
   "source": [
    "!pip install beautifulsoup4 openpyxl\n"
   ]
  },
  {
   "cell_type": "code",
   "execution_count": 2,
   "id": "2ba6badd-7958-4a65-85c1-0923987d667a",
   "metadata": {},
   "outputs": [],
   "source": [
    "import openpyxl\n",
    "from bs4 import BeautifulSoup\n",
    "\n",
    "# Load the HTML file ('amazon.html' in this example)\n",
    "with open('C:/Users/saksh/OneDrive/Desktop/amazon.html', 'r', encoding='utf-8') as file:\n",
    "    html = file.read()\n",
    "\n",
    "# Parse the HTML content using BeautifulSoup\n",
    "soup = BeautifulSoup(html, 'html.parser')\n",
    "\n",
    "# Find all div elements with the specified class\n",
    "divs = soup.find_all('div', class_='sg-col-20-of-24 s-result-item s-asin sg-col-0-of-12 sg-col-16-of-20 AdHolder sg-col s-widget-spacing-small sg-col-12-of-16')\n",
    "\n",
    "# Create an Excel workbook and add a worksheet\n",
    "workbook = openpyxl.Workbook()\n",
    "worksheet = workbook.active\n",
    "\n",
    "# Add headers to the Excel file\n",
    "worksheet.append(['Product Name', 'Product Price'])\n",
    "\n",
    "# Iterate through the div elements and extract the required information for all products\n",
    "for div in divs:\n",
    "    try:\n",
    "        product_name = div.find('span', class_='a-size-medium a-color-base a-text-normal').text\n",
    "    except AttributeError:\n",
    "        product_name = \" \"\n",
    "    \n",
    "    try:\n",
    "        product_price = div.find('span', class_='a-price-whole').text\n",
    "    except AttributeError:\n",
    "        product_price = \" \"\n",
    "\n",
    "    # Write the data to the Excel file\n",
    "    worksheet.append([product_name, product_price])\n",
    "\n",
    "# Save the Excel file (replace 'output.xlsx' with your desired file name)\n",
    "workbook.save('C:/Users/saksh/OneDrive/Docum/web scraping/output.xlsx')\n"
   ]
  }
 ],
 "metadata": {
  "kernelspec": {
   "display_name": "Python 3 (ipykernel)",
   "language": "python",
   "name": "python3"
  },
  "language_info": {
   "codemirror_mode": {
    "name": "ipython",
    "version": 3
   },
   "file_extension": ".py",
   "mimetype": "text/x-python",
   "name": "python",
   "nbconvert_exporter": "python",
   "pygments_lexer": "ipython3",
   "version": "3.11.4"
  }
 },
 "nbformat": 4,
 "nbformat_minor": 5
}
