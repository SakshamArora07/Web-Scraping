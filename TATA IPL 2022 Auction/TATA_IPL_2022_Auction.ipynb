{
  "nbformat": 4,
  "nbformat_minor": 0,
  "metadata": {
    "colab": {
      "provenance": []
    },
    "kernelspec": {
      "name": "python3",
      "display_name": "Python 3"
    },
    "language_info": {
      "name": "python"
    }
  },
  "cells": [
    {
      "cell_type": "code",
      "execution_count": 12,
      "metadata": {
        "colab": {
          "base_uri": "https://localhost:8080/"
        },
        "id": "tK_7_2t7pDeE",
        "outputId": "320aa5d3-c509-4896-d7f9-68d3262cf1a0"
      },
      "outputs": [
        {
          "output_type": "stream",
          "name": "stdout",
          "text": [
            "                          TEAM FUNDS REMAINING OVERSEAS PLAYERS  TOTAL PLAYERS\n",
            "0          Chennai Super Kings    ₹2,95,00,000                 8            25\n",
            "1               Delhi Capitals      ₹10,00,000                 7            24\n",
            "2               Gujarat Titans      ₹15,00,000                 8            23\n",
            "3        Kolkata Knight Riders      ₹45,00,000                 8            25\n",
            "4         Lucknow Super Giants              ₹0                 7            21\n",
            "5               Mumbai Indians      ₹10,00,000                 8            25\n",
            "6                 Punjab Kings    ₹3,45,00,000                 7            25\n",
            "7             Rajasthan Royals      ₹95,00,000                 8            24\n",
            "8  Royal Challengers Bangalore    ₹1,55,00,000                 8            22\n",
            "9          Sunrisers Hyderabad      ₹10,00,000                 8            23\n"
          ]
        }
      ],
      "source": [
        "import requests\n",
        "from bs4 import BeautifulSoup as bs\n",
        "import pandas as pd\n",
        "url = \"https://www.iplt20.com/auction/2022\"\n",
        "r = requests.get(url)\n",
        "\n",
        "soup = bs(r.text, 'lxml')\n",
        "\n",
        "table = soup.find('table', class_ = \"ih-td-tab auction-tbl\")\n",
        "# print(table.text)\n",
        "\n",
        "header = table.find_all('th', class_ = \"skip-filter\")\n",
        "# print(header)\n",
        "\n",
        "titles = []\n",
        "for i in header:\n",
        "  title = i.text\n",
        "  titles.append(title)\n",
        "# print(titles)\n",
        "\n",
        "df = pd.DataFrame(columns = titles)\n",
        "# print(df)\n",
        "\n",
        "rows = table.find_all('tr')\n",
        "for i in rows[1: ] :\n",
        "  data = i.find_all('td')\n",
        "  row = [j.text.strip('\\n') for j in data]\n",
        "  # print(row)\n",
        "  l = len(df)\n",
        "  df.loc[l] = row\n",
        "\n",
        "print(df)\n",
        "df.to_csv('TATA IPL 2022 Auction.csv')\n"
      ]
    }
  ]
}