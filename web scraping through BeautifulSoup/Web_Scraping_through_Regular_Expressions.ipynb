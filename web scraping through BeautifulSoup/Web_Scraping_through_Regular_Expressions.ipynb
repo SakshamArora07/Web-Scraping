{
  "nbformat": 4,
  "nbformat_minor": 0,
  "metadata": {
    "colab": {
      "provenance": [],
      "authorship_tag": "ABX9TyNUel0cbKavHm9LdF+GQMgo"
    },
    "kernelspec": {
      "name": "python3",
      "display_name": "Python 3"
    },
    "language_info": {
      "name": "python"
    }
  },
  "cells": [
    {
      "cell_type": "code",
      "execution_count": 5,
      "metadata": {
        "colab": {
          "base_uri": "https://localhost:8080/"
        },
        "id": "6jlVoPkVT1ai",
        "outputId": "e68250c7-edf1-4752-be9f-64381c14f61d"
      },
      "outputs": [
        {
          "output_type": "stream",
          "name": "stdout",
          "text": [
            "['Galaxy Tab 3', 'Galaxy Tab 3']\n",
            "['Galaxy Tab 3', 'Galaxy Tab 3', 'Galaxy Tab 4', 'Galaxy Tab']\n"
          ]
        }
      ],
      "source": [
        "# Web Scraping through Regular Expressions\n",
        "# using regular expression we can identify a pattern in the string and based on that pattern we can extract the data\n",
        "\n",
        "import requests\n",
        "from bs4 import BeautifulSoup as bs\n",
        "import re\n",
        "\n",
        "url = 'http://webscraper.io/test-sites/e-commerce/allinone/computers/tablets'\n",
        "r = requests.get(url)\n",
        "\n",
        "soup = bs(r.text,'lxml')\n",
        "\n",
        "data = soup.find_all(['h4','a','p'])\n",
        "# print(data)\n",
        "\n",
        "data = soup.find_all(string = \"Galaxy Tab 3\") #it will search and get galaxy tab 3 as well as galaxy tab as well as galaxy (substrings in the mentioned string)...\n",
        "print(data)\n",
        "\n",
        "data = soup.find_all(string = re.compile('Galaxy Tab')) # finds all strings that have galaxy tab in it in the mentioned order only\n",
        "print(data)\n",
        "\n"
      ]
    }
  ]
}