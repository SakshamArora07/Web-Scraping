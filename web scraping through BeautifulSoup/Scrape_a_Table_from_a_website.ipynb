{
  "nbformat": 4,
  "nbformat_minor": 0,
  "metadata": {
    "colab": {
      "provenance": [],
      "authorship_tag": "ABX9TyNyPnTXfkOezloEy4619yCr"
    },
    "kernelspec": {
      "name": "python3",
      "display_name": "Python 3"
    },
    "language_info": {
      "name": "python"
    }
  },
  "cells": [
    {
      "cell_type": "code",
      "execution_count": 16,
      "metadata": {
        "colab": {
          "base_uri": "https://localhost:8080/"
        },
        "id": "mPh9p_piayuY",
        "outputId": "78732890-ba27-4831-e9d3-0c8f7fdf78fb"
      },
      "outputs": [
        {
          "output_type": "stream",
          "name": "stdout",
          "text": [
            "<Response [200]>\n",
            "['Bajaj Finance', '8168.55', '8192.00']\n",
            "['Suzlon Energy', '29.10', '29.80']\n",
            "['Ujjivan Small Fin', '60.10', '61.40']\n",
            "['TCS', '3621.40', '3634.95']\n",
            "['Larsen & Toubro', '3093.70', '3114.95']\n",
            "['Godrej Industries', '719.10', '721.25']\n",
            "['DLF', '548.70', '550.50']\n",
            "['PCBL', '197.30', '198.35']\n",
            "['Infibeam Avenues', '20.25', '20.90']\n",
            "['J&K Bank', '114.00', '115.90']\n",
            "['PNB Gilts', '90.00', '92.15']\n",
            "['Angel One', '1977.65', '2042.95']\n",
            "['JSW Infrastructure', '171.60', '173.35']\n",
            "['Sobha', '712.90', '728.90']\n",
            "['Quick Heal Tech', '318.70', '329.50']\n",
            "               Company PriceRs. Day HighRs.\n",
            "0        Bajaj Finance  8168.55     8192.00\n",
            "1        Suzlon Energy    29.10       29.80\n",
            "2    Ujjivan Small Fin    60.10       61.40\n",
            "3                  TCS  3621.40     3634.95\n",
            "4      Larsen & Toubro  3093.70     3114.95\n",
            "5    Godrej Industries   719.10      721.25\n",
            "6                  DLF   548.70      550.50\n",
            "7                 PCBL   197.30      198.35\n",
            "8     Infibeam Avenues    20.25       20.90\n",
            "9             J&K Bank   114.00      115.90\n",
            "10           PNB Gilts    90.00       92.15\n",
            "11           Angel One  1977.65     2042.95\n",
            "12  JSW Infrastructure   171.60      173.35\n",
            "13               Sobha   712.90      728.90\n",
            "14     Quick Heal Tech   318.70      329.50\n"
          ]
        }
      ],
      "source": [
        "# note : .text can be applied only on single element and not on a list of elements\n",
        "\n",
        "import requests\n",
        "import pandas as pd\n",
        "from bs4 import BeautifulSoup as bs\n",
        "\n",
        "url = 'https://ticker.finology.in/'\n",
        "r = requests.get(url)\n",
        "print(r)\n",
        "\n",
        "soup = bs(r.text,'lxml')\n",
        "\n",
        "table = soup.find('table', class_ = 'table table-sm table-hover screenertable')\n",
        "# print(table)\n",
        "headers = table.find_all('th')\n",
        "\n",
        "titles = []\n",
        "for i in headers:\n",
        "  title = i.text\n",
        "  titles.append(title)\n",
        "# print(titles)\n",
        "\n",
        "df = pd.DataFrame(columns = titles)\n",
        "# print(df)\n",
        "\n",
        "rows = table.find_all('tr')\n",
        "\n",
        "for i in rows[1:] : # to ignore the row contining the th-headings of the columns because we already have them as titles\n",
        "  data = i.find_all('td')\n",
        "  row = [tr.text.strip('\\n') for tr in data]\n",
        "  print(row)\n",
        "  l = len(df)\n",
        "  df.loc[l] = row\n",
        "\n",
        "print(df)\n",
        "\n",
        "df.to_csv('stock_market_data.csv')"
      ]
    }
  ]
}