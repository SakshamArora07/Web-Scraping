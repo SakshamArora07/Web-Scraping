{
  "nbformat": 4,
  "nbformat_minor": 0,
  "metadata": {
    "colab": {
      "provenance": [],
      "authorship_tag": "ABX9TyPKs8Ost9OUH5cbgNU+4QWo"
    },
    "kernelspec": {
      "name": "python3",
      "display_name": "Python 3"
    },
    "language_info": {
      "name": "python"
    }
  },
  "cells": [
    {
      "cell_type": "code",
      "execution_count": 15,
      "metadata": {
        "colab": {
          "base_uri": "https://localhost:8080/"
        },
        "id": "6G1GS6_gW85N",
        "outputId": "784928f9-d9a5-4efe-fc76-5b333e8a11b5"
      },
      "outputs": [
        {
          "output_type": "stream",
          "name": "stdout",
          "text": [
            "[<a class=\"title\" href=\"/test-sites/e-commerce/allinone/product/495\" title=\"Lenovo IdeaTab\">Lenovo IdeaTab</a>, <a class=\"title\" href=\"/test-sites/e-commerce/allinone/product/500\" title=\"IdeaTab A3500L\">IdeaTab A3500L</a>, <a class=\"title\" href=\"/test-sites/e-commerce/allinone/product/496\" title=\"Acer Iconia\">Acer Iconia</a>, <a class=\"title\" href=\"/test-sites/e-commerce/allinone/product/503\" title=\"Galaxy Tab 3\">Galaxy Tab 3</a>, <a class=\"title\" href=\"/test-sites/e-commerce/allinone/product/512\" title=\"Iconia B1-730HD\">Iconia B1-730H...</a>, <a class=\"title\" href=\"/test-sites/e-commerce/allinone/product/508\" title=\"Memo Pad HD 7\">Memo Pad HD 7</a>, <a class=\"title\" href=\"/test-sites/e-commerce/allinone/product/497\" title=\"Asus MeMO Pad\">Asus MeMO Pad</a>, <a class=\"title\" href=\"/test-sites/e-commerce/allinone/product/498\" title=\"Amazon Kindle\">Amazon Kindle</a>, <a class=\"title\" href=\"/test-sites/e-commerce/allinone/product/507\" title=\"Galaxy Tab 3\">Galaxy Tab 3</a>, <a class=\"title\" href=\"/test-sites/e-commerce/allinone/product/513\" title=\"IdeaTab A8-50\">IdeaTab A8-50</a>, <a class=\"title\" href=\"/test-sites/e-commerce/allinone/product/505\" title=\"MeMO Pad 7\">MeMO Pad 7</a>, <a class=\"title\" href=\"/test-sites/e-commerce/allinone/product/502\" title=\"IdeaTab A3500-H\">IdeaTab A3500-...</a>, <a class=\"title\" href=\"/test-sites/e-commerce/allinone/product/511\" title=\"IdeaTab S5000\">IdeaTab S5000</a>, <a class=\"title\" href=\"/test-sites/e-commerce/allinone/product/506\" title=\"Galaxy Tab 4\">Galaxy Tab 4</a>, <a class=\"title\" href=\"/test-sites/e-commerce/allinone/product/501\" title=\"Galaxy Tab\">Galaxy Tab</a>, <a class=\"title\" href=\"/test-sites/e-commerce/allinone/product/510\" title=\"MeMo PAD FHD 10\">MeMo PAD FHD 1...</a>, <a class=\"title\" href=\"/test-sites/e-commerce/allinone/product/514\" title=\"Galaxy Note\">Galaxy Note</a>, <a class=\"title\" href=\"/test-sites/e-commerce/allinone/product/504\" title=\"Galaxy Note\">Galaxy Note</a>, <a class=\"title\" href=\"/test-sites/e-commerce/allinone/product/499\" title=\"iPad Mini Retina\">iPad Mini Reti...</a>, <a class=\"title\" href=\"/test-sites/e-commerce/allinone/product/509\" title=\"Galaxy Note 10.1\">Galaxy Note 10...</a>, <a class=\"title\" href=\"/test-sites/e-commerce/allinone/product/515\" title=\"Apple iPad Air\">Apple iPad Air</a>]\n",
            "['Lenovo IdeaTab', 'IdeaTab A3500L', 'Acer Iconia', 'Galaxy Tab 3', 'Iconia B1-730H...', 'Memo Pad HD 7', 'Asus MeMO Pad', 'Amazon Kindle', 'Galaxy Tab 3', 'IdeaTab A8-50', 'MeMO Pad 7', 'IdeaTab A3500-...', 'IdeaTab S5000', 'Galaxy Tab 4', 'Galaxy Tab', 'MeMo PAD FHD 1...', 'Galaxy Note', 'Galaxy Note', 'iPad Mini Reti...', 'Galaxy Note 10...', 'Apple iPad Air']\n",
            "         product name\n",
            "0      Lenovo IdeaTab\n",
            "1      IdeaTab A3500L\n",
            "2         Acer Iconia\n",
            "3        Galaxy Tab 3\n",
            "4   Iconia B1-730H...\n",
            "5       Memo Pad HD 7\n",
            "6       Asus MeMO Pad\n",
            "7       Amazon Kindle\n",
            "8        Galaxy Tab 3\n",
            "9       IdeaTab A8-50\n",
            "10         MeMO Pad 7\n",
            "11  IdeaTab A3500-...\n",
            "12      IdeaTab S5000\n",
            "13       Galaxy Tab 4\n",
            "14         Galaxy Tab\n",
            "15  MeMo PAD FHD 1...\n",
            "16        Galaxy Note\n",
            "17        Galaxy Note\n",
            "18  iPad Mini Reti...\n",
            "19  Galaxy Note 10...\n",
            "20     Apple iPad Air\n"
          ]
        }
      ],
      "source": [
        "import requests\n",
        "import pandas as pd\n",
        "from bs4 import BeautifulSoup as bs\n",
        "\n",
        "url = 'http://webscraper.io/test-sites/e-commerce/allinone/computers/tablets'\n",
        "r = requests.get(url)\n",
        "\n",
        "soup = bs(r.text,'lxml')\n",
        "\n",
        "names = soup.find_all('a', class_ = 'title')\n",
        "print(names)\n",
        "\n",
        "names_list = []\n",
        "\n",
        "for i in names :\n",
        "  name = i.text # .text can be used over only one element and not over  list of elements therefore it cant be used with find_all, it can be used only with find.\n",
        "  names_list.append(name)\n",
        "\n",
        "print(names_list)\n",
        "\n",
        "df = pd.DataFrame({'product name':names_list}) #column names with the list name or the name of the dictionary/list if you the complete dictionart/list already\n",
        "print(df)\n",
        "\n",
        "df.to_csv('product_details.csv')"
      ]
    }
  ]
}