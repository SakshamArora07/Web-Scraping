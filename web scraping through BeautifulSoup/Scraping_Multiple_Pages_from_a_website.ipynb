{
  "nbformat": 4,
  "nbformat_minor": 0,
  "metadata": {
    "colab": {
      "provenance": [],
      "authorship_tag": "ABX9TyMN9Anzr1vkk7vgmLorH/2U"
    },
    "kernelspec": {
      "name": "python3",
      "display_name": "Python 3"
    },
    "language_info": {
      "name": "python"
    }
  },
  "cells": [
    {
      "cell_type": "code",
      "execution_count": 19,
      "metadata": {
        "id": "h-pyfQyT8-T2"
      },
      "outputs": [],
      "source": [
        "# the next button has the link to the next page\n",
        "\n",
        "# moving and finding links to the next pages using python\n",
        "\n",
        "import requests\n",
        "from bs4 import BeautifulSoup as bs\n",
        "import pandas as pd\n",
        "\n",
        "for i in range(2,3) : # to obtain the data of page no 1 to page no 4\n",
        "\n",
        "  url = 'https://www.amazon.in/s?k=headphones&i=electronics&crid=2MKH4EJ6V8YX6&sprefix=headphone%2Celectronics%2C211&ref=nb_sb_noss_2' + str(i)\n",
        "  r = requests.get(url)\n",
        "\n",
        "  print(r)\n",
        "\n",
        "  soup = bs(r.text, 'lxml')\n",
        "\n",
        "\n",
        "  while True:\n",
        "    next_page_link = soup.find('a', class_ = 's-pagination-item s-pagination-next s-pagination-button s-pagination-separator').get('href')\n",
        "    complete_next_page_link = 'https://amazon.in' + next_page_link\n",
        "    print(next_page_link)\n",
        "\n",
        "    url = complete_next_page_linkr = requests.get(url)\n",
        "    soup = bs(r.text, 'lxml')"
      ]
    }
  ]
}