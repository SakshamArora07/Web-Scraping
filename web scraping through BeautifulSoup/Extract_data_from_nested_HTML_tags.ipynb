{
  "nbformat": 4,
  "nbformat_minor": 0,
  "metadata": {
    "colab": {
      "provenance": [],
      "authorship_tag": "ABX9TyNwDGMdXJRO8lrx0mlwzeFa"
    },
    "kernelspec": {
      "name": "python3",
      "display_name": "Python 3"
    },
    "language_info": {
      "name": "python"
    }
  },
  "cells": [
    {
      "cell_type": "code",
      "execution_count": 19,
      "metadata": {
        "colab": {
          "base_uri": "https://localhost:8080/"
        },
        "id": "ACNdcW2Begep",
        "outputId": "e4f7bf2d-a83f-4839-894b-e0e67b0ce98a"
      },
      "outputs": [
        {
          "output_type": "stream",
          "name": "stdout",
          "text": [
            "\n",
            "\n",
            "\n",
            "\t\t\t\t\t\t\tTablets\n",
            "\t\t\t\t\t\t\n",
            "\n",
            "\n",
            "\n",
            "\t\t\t\t\t\t\tLaptops\n",
            "\t\t\t\t\t\t\n",
            "\n",
            "\n"
          ]
        }
      ],
      "source": [
        "# go to the parent class then from parent class go to the child class\n",
        "import requests\n",
        "import pandas as pd\n",
        "from bs4 import BeautifulSoup as bs\n",
        "\n",
        "url = 'http://webscraper.io/test-sites/e-commerce/allinone/computers/tablets'\n",
        "r = requests.get(url)\n",
        "\n",
        "soup = bs(r.text,'lxml')\n",
        "\n",
        "# box = soup.find_all('div', class_ = 'col-md-4 col-xl-4 col-lg-4')[2] #looking for index number 2\n",
        "# # print(box)\n",
        "\n",
        "# name = box.find('a').text\n",
        "# print(name)\n",
        "\n",
        "\n",
        "name = soup.find('li', class_ = 'active')\n",
        "final = name.find_all('ul', class_ = \"nav nav-second-level\")[0]\n",
        "print(final.text)"
      ]
    }
  ]
}