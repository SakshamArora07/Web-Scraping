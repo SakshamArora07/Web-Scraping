{
  "nbformat": 4,
  "nbformat_minor": 0,
  "metadata": {
    "colab": {
      "provenance": [],
      "mount_file_id": "1Oc00fKLZKBs0ZNROItD8dirx8lq8f7iD",
      "authorship_tag": "ABX9TyP6qTFvJgjHk1NYwDuW6ovj"
    },
    "kernelspec": {
      "name": "python3",
      "display_name": "Python 3"
    },
    "language_info": {
      "name": "python"
    }
  },
  "cells": [
    {
      "cell_type": "code",
      "execution_count": 9,
      "metadata": {
        "colab": {
          "base_uri": "https://localhost:8080/"
        },
        "id": "2zghLOYd2zCn",
        "outputId": "1ba8dfc3-0d98-4452-d32c-c5c55d5655d1"
      },
      "outputs": [
        {
          "output_type": "stream",
          "name": "stdout",
          "text": [
            "Requirement already satisfied: beautifulsoup4 in /usr/local/lib/python3.10/dist-packages (4.11.2)\n",
            "Requirement already satisfied: soupsieve>1.2 in /usr/local/lib/python3.10/dist-packages (from beautifulsoup4) (2.5)\n"
          ]
        }
      ],
      "source": [
        "!pip install beautifulsoup4"
      ]
    },
    {
      "cell_type": "code",
      "source": [
        "!pip install lxml"
      ],
      "metadata": {
        "colab": {
          "base_uri": "https://localhost:8080/"
        },
        "id": "l1tOZnVmcZji",
        "outputId": "e256ac99-3649-4654-9492-28f2d0a7f78b"
      },
      "execution_count": 10,
      "outputs": [
        {
          "output_type": "stream",
          "name": "stdout",
          "text": [
            "Requirement already satisfied: lxml in /usr/local/lib/python3.10/dist-packages (4.9.3)\n"
          ]
        }
      ]
    },
    {
      "cell_type": "code",
      "source": [
        "from bs4 import BeautifulSoup as bs\n",
        "\n",
        "# with open(file name you want to open , method you want to apply when that file is opened in python memory like read write or both )\n",
        "with open('home.html', 'r') as html_file :\n",
        "  content = html_file.read()\n",
        "  print(content)\n",
        "  # prints the index.html file's code"
      ],
      "metadata": {
        "colab": {
          "base_uri": "https://localhost:8080/"
        },
        "id": "FNEkEU9GcenU",
        "outputId": "366836e1-d7d7-4c90-a492-af11ee6e10e3"
      },
      "execution_count": 11,
      "outputs": [
        {
          "output_type": "stream",
          "name": "stdout",
          "text": [
            "<!doctype html>\n",
            "<html lang=\"en\">\n",
            "   <head>\n",
            "      <meta charset=\"utf-8\">\n",
            "      <meta name=\"viewport\" content=\"width=device-width, initial-scale=1, shrink-to-fit=no\">\n",
            "      <link rel=\"stylesheet\" href=\"https://stackpath.bootstrapcdn.com/bootstrap/4.5.2/css/bootstrap.min.css\" integrity=\"sha384-JcKb8q3iqJ61gNV9KGb8thSsNjpSL0n8PARn9HuZOnIxN0hoP+VmmDGMN5t9UJ0Z\" crossorigin=\"anonymous\">\n",
            "      <title>My Courses</title>\n",
            "   </head>\n",
            "   <body>\n",
            "      <h1>Hello, Start Learning!</h1>\n",
            "      <div class=\"card\" id=\"card-python-for-beginners\">\n",
            "         <div class=\"card-header\">\n",
            "            Python\n",
            "         </div>\n",
            "         <div class=\"card-body\">\n",
            "            <h5 class=\"card-title\">Python for beginners</h5>\n",
            "            <p class=\"card-text\">If you are new to Python, this is the course that you should buy!</p>\n",
            "            <a href=\"#\" class=\"btn btn-primary\">Start for 20$</a>\n",
            "         </div>\n",
            "      </div>\n",
            "      <div class=\"card\" id=\"card-python-web-development\">\n",
            "         <div class=\"card-header\">\n",
            "            Python\n",
            "         </div>\n",
            "         <div class=\"card-body\">\n",
            "            <h5 class=\"card-title\">Python Web Development</h5>\n",
            "            <p class=\"card-text\">If you feel enough confident with python, you are ready to learn how to create your own website!</p>\n",
            "            <a href=\"#\" class=\"btn btn-primary\">Start for 50$</a>\n",
            "         </div>\n",
            "      </div>\n",
            "      <div class=\"card\" id=\"card-python-machine-learning\">\n",
            "         <div class=\"card-header\">\n",
            "            Python\n",
            "         </div>\n",
            "         <div class=\"card-body\">\n",
            "            <h5 class=\"card-title\">Python Machine Learning</h5>\n",
            "            <p class=\"card-text\">Become a Python Machine Learning master!</p>\n",
            "            <a href=\"#\" class=\"btn btn-primary\">Start for 100$</a>\n",
            "         </div>\n",
            "      </div>\n",
            "   </body>\n",
            "</html>\n"
          ]
        }
      ]
    },
    {
      "cell_type": "code",
      "source": [
        "soup = bs(content, 'lxml')\n",
        "print(soup.prettify())\n",
        "# prints the index.html file's code as it is in the formatting it was written"
      ],
      "metadata": {
        "colab": {
          "base_uri": "https://localhost:8080/"
        },
        "id": "EsD3QEaMeYIG",
        "outputId": "18d821a5-94d2-4f5c-c427-95f0b3bc3c48"
      },
      "execution_count": 12,
      "outputs": [
        {
          "output_type": "stream",
          "name": "stdout",
          "text": [
            "<!DOCTYPE html>\n",
            "<html lang=\"en\">\n",
            " <head>\n",
            "  <meta charset=\"utf-8\"/>\n",
            "  <meta content=\"width=device-width, initial-scale=1, shrink-to-fit=no\" name=\"viewport\"/>\n",
            "  <link crossorigin=\"anonymous\" href=\"https://stackpath.bootstrapcdn.com/bootstrap/4.5.2/css/bootstrap.min.css\" integrity=\"sha384-JcKb8q3iqJ61gNV9KGb8thSsNjpSL0n8PARn9HuZOnIxN0hoP+VmmDGMN5t9UJ0Z\" rel=\"stylesheet\"/>\n",
            "  <title>\n",
            "   My Courses\n",
            "  </title>\n",
            " </head>\n",
            " <body>\n",
            "  <h1>\n",
            "   Hello, Start Learning!\n",
            "  </h1>\n",
            "  <div class=\"card\" id=\"card-python-for-beginners\">\n",
            "   <div class=\"card-header\">\n",
            "    Python\n",
            "   </div>\n",
            "   <div class=\"card-body\">\n",
            "    <h5 class=\"card-title\">\n",
            "     Python for beginners\n",
            "    </h5>\n",
            "    <p class=\"card-text\">\n",
            "     If you are new to Python, this is the course that you should buy!\n",
            "    </p>\n",
            "    <a class=\"btn btn-primary\" href=\"#\">\n",
            "     Start for 20$\n",
            "    </a>\n",
            "   </div>\n",
            "  </div>\n",
            "  <div class=\"card\" id=\"card-python-web-development\">\n",
            "   <div class=\"card-header\">\n",
            "    Python\n",
            "   </div>\n",
            "   <div class=\"card-body\">\n",
            "    <h5 class=\"card-title\">\n",
            "     Python Web Development\n",
            "    </h5>\n",
            "    <p class=\"card-text\">\n",
            "     If you feel enough confident with python, you are ready to learn how to create your own website!\n",
            "    </p>\n",
            "    <a class=\"btn btn-primary\" href=\"#\">\n",
            "     Start for 50$\n",
            "    </a>\n",
            "   </div>\n",
            "  </div>\n",
            "  <div class=\"card\" id=\"card-python-machine-learning\">\n",
            "   <div class=\"card-header\">\n",
            "    Python\n",
            "   </div>\n",
            "   <div class=\"card-body\">\n",
            "    <h5 class=\"card-title\">\n",
            "     Python Machine Learning\n",
            "    </h5>\n",
            "    <p class=\"card-text\">\n",
            "     Become a Python Machine Learning master!\n",
            "    </p>\n",
            "    <a class=\"btn btn-primary\" href=\"#\">\n",
            "     Start for 100$\n",
            "    </a>\n",
            "   </div>\n",
            "  </div>\n",
            " </body>\n",
            "</html>\n"
          ]
        }
      ]
    },
    {
      "cell_type": "code",
      "source": [
        "first_tag = soup.find('h5')\n",
        "print(first_tag)\n",
        "# prints the first h3 tag found\n",
        "\n",
        "all_tags = soup.find_all('h5')\n",
        "print(all_tags)\n",
        "# prints all the h3 tags found\n",
        "\n"
      ],
      "metadata": {
        "colab": {
          "base_uri": "https://localhost:8080/"
        },
        "id": "Q-YZ45eye0fi",
        "outputId": "2dc465d3-063e-4290-c0ee-73cf7fdf1ab2"
      },
      "execution_count": 13,
      "outputs": [
        {
          "output_type": "stream",
          "name": "stdout",
          "text": [
            "<h5 class=\"card-title\">Python for beginners</h5>\n",
            "[<h5 class=\"card-title\">Python for beginners</h5>, <h5 class=\"card-title\">Python Web Development</h5>, <h5 class=\"card-title\">Python Machine Learning</h5>]\n"
          ]
        }
      ]
    },
    {
      "cell_type": "code",
      "source": [
        "for h3 in all_tags:\n",
        "  print(h3.text)"
      ],
      "metadata": {
        "colab": {
          "base_uri": "https://localhost:8080/"
        },
        "id": "u06O20CUf0_z",
        "outputId": "3b8a3abe-048d-496d-f649-45bceba45312"
      },
      "execution_count": 14,
      "outputs": [
        {
          "output_type": "stream",
          "name": "stdout",
          "text": [
            "Python for beginners\n",
            "Python Web Development\n",
            "Python Machine Learning\n"
          ]
        }
      ]
    },
    {
      "cell_type": "code",
      "source": [
        "course_cards = soup.find_all('div', class_='card')\n",
        "# finds all the course_card divs with the class name card\n",
        "for course in course_cards:\n",
        "  print(course.h5)\n",
        "print('')\n",
        "\n",
        "for course in course_cards:\n",
        "  course_name = course.h5.text\n",
        "  course_price = course.a.text\n",
        "  # finds all a tags in course_cards\n",
        "  print(course_name)\n",
        "  print(course_price)\n",
        "print('')\n",
        "\n",
        "for course in course_cards:\n",
        "  course_name = course.h5.text\n",
        "  course_price = course.a.text.split()[-1]\n",
        "  # finds all a tags in course_cards\n",
        "  # split(split based on spaces therefore its left blank) and [-1] means finds the last word of a tag\n",
        "  print(course_name)\n",
        "  print(course_price)\n",
        "print('')\n",
        "\n",
        "for course in course_cards:\n",
        "  course_name = course.h5.text\n",
        "  course_price = course.a.text.split()[-1]\n",
        "  # finds all a tags in course_cards\n",
        "  # split(split based on spaces therefore its left blank) and [-1] means finds the last word of a tag\n",
        "  print(f'{course_name} costs {course_price}')\n",
        "print('')\n"
      ],
      "metadata": {
        "colab": {
          "base_uri": "https://localhost:8080/"
        },
        "id": "_CmwUBXzgS-K",
        "outputId": "b8a0af20-654d-4f1d-ca5f-76beec694fb9"
      },
      "execution_count": 15,
      "outputs": [
        {
          "output_type": "stream",
          "name": "stdout",
          "text": [
            "<h5 class=\"card-title\">Python for beginners</h5>\n",
            "<h5 class=\"card-title\">Python Web Development</h5>\n",
            "<h5 class=\"card-title\">Python Machine Learning</h5>\n",
            "\n",
            "Python for beginners\n",
            "Start for 20$\n",
            "Python Web Development\n",
            "Start for 50$\n",
            "Python Machine Learning\n",
            "Start for 100$\n",
            "\n",
            "Python for beginners\n",
            "20$\n",
            "Python Web Development\n",
            "50$\n",
            "Python Machine Learning\n",
            "100$\n",
            "\n",
            "Python for beginners costs 20$\n",
            "Python Web Development costs 50$\n",
            "Python Machine Learning costs 100$\n",
            "\n"
          ]
        }
      ]
    },
    {
      "cell_type": "code",
      "source": [
        "!pip install requests"
      ],
      "metadata": {
        "colab": {
          "base_uri": "https://localhost:8080/"
        },
        "id": "aFbpVcxLOuE0",
        "outputId": "6d773255-bb92-4605-c7d5-4736f207b38e"
      },
      "execution_count": 16,
      "outputs": [
        {
          "output_type": "stream",
          "name": "stdout",
          "text": [
            "Requirement already satisfied: requests in /usr/local/lib/python3.10/dist-packages (2.31.0)\n",
            "Requirement already satisfied: charset-normalizer<4,>=2 in /usr/local/lib/python3.10/dist-packages (from requests) (3.3.0)\n",
            "Requirement already satisfied: idna<4,>=2.5 in /usr/local/lib/python3.10/dist-packages (from requests) (3.4)\n",
            "Requirement already satisfied: urllib3<3,>=1.21.1 in /usr/local/lib/python3.10/dist-packages (from requests) (2.0.6)\n",
            "Requirement already satisfied: certifi>=2017.4.17 in /usr/local/lib/python3.10/dist-packages (from requests) (2023.7.22)\n"
          ]
        }
      ]
    },
    {
      "cell_type": "code",
      "source": [
        "import requests\n",
        "\n",
        "print('provide the skills that you are not familiar with')\n",
        "unfamiliar_skill = input('>')\n",
        "# taking input from the user . the user enter the skills that they dont have and we remove those jobs which have those skills under required skills\n",
        "print(f'Filtering out {unfamiliar_skill}')\n",
        "\n",
        "def find_jobs():\n",
        "  html_text = requests.get('https://www.timesjobs.com/candidate/job-search.html?searchType=personalizedSearch&from=submit&txtKeywords=summer+internship&txtLocation=')\n",
        "  # print(html_text)\n",
        "  # output - <Response [200]> means that the request/output is successful\n",
        "\n",
        "  html_text = requests.get('https://www.timesjobs.com/candidate/job-search.html?searchType=personalizedSearch&from=submit&txtKeywords=summer+internship&txtLocation=').text\n",
        "  # print(html_text)\n",
        "\n",
        "  soup = bs(html_text, 'lxml')\n",
        "  jobs = soup.find_all('li', class_='clearfix job-bx wht-shd-bx')\n",
        "  # print(jobs)\n",
        "\n",
        "  for index,job in enumerate(jobs): #enumerate function helps us to iterate over the job list as well as the indices.\n",
        "    published_date = job.find('span', class_ = 'sim-posted').span.text\n",
        "    # .span finds the span tag inside the outer span tag\n",
        "    # print(f'pubished date: {published_date}')\n",
        "    if 'few' in published_date:\n",
        "\n",
        "      company_name = job.find('h3', class_ = 'joblist-comp-name').text.replace(' ','')\n",
        "      # text.replace(' ','') replaces spaces with nothing\n",
        "      # print(company_name)\n",
        "\n",
        "      skills = job.find('span', class_='srp-skills').text.replace(' ', '')\n",
        "      # print(skills)\n",
        "\n",
        "      more_info = job.header.h2.a['href']\n",
        "      # it gives us to the link of that particular job which is inside the header tag->h2 tag->a->href\n",
        "\n",
        "\n",
        "      if unfamiliar_skill not in skills:\n",
        "\n",
        "        with open(f'directory/{index}.txt','w') as f:\n",
        "\n",
        "            f.write(f'Company Name: {company_name.strip()}\\n')\n",
        "            # The strip() method is used to remove leading and trailing whitespace characters (such as spaces, tabs, and newline characters) from a string. It operates on a string object and returns a new string with the leading and trailing whitespace removed.\n",
        "            f.write(f'Required Skills: {skills.strip()}\\n')\n",
        "            f.write(f'More Info: {more_info}\\n')\n",
        "        print(f'file saved: {index}')\n",
        "\n",
        "\n",
        "          # print(f'Company Name: {company_name.strip()}')\n",
        "          # # The strip() method is used to remove leading and trailing whitespace characters (such as spaces, tabs, and newline characters) from a string. It operates on a string object and returns a new string with the leading and trailing whitespace removed.\n",
        "          # print(f'Required Skills: {skills.strip()}')\n",
        "          # print(f'More Info: {more_info}')\n",
        "\n",
        "          # published_date = job.find('span', class_ = 'sim-posted').span.text\n",
        "          # .span finds the span tag inside the outer span tag\n",
        "          # print(f'pubished date: {published_date}')\n",
        "\n",
        "          # print('')\n",
        "\n",
        "import time\n",
        "\n",
        "if __name__ == '__main__' :\n",
        "  while True:\n",
        "    find_jobs()\n",
        "    time_wait = 10\n",
        "    print(f'waiting {time_wait} minutes...')\n",
        "    time.sleep(time_wait * 60) # the function will be called after every time_wait*60 seconds/time_wait minutes since program sleeps for time_wait*60 seconds\n",
        "\n",
        "\n"
      ],
      "metadata": {
        "colab": {
          "base_uri": "https://localhost:8080/"
        },
        "id": "IYjZt6dMO-y3",
        "outputId": "2ec5c712-b57f-438a-db03-65598a13f18f"
      },
      "execution_count": null,
      "outputs": [
        {
          "output_type": "stream",
          "name": "stdout",
          "text": [
            "provide the skills that you are not familiar with\n",
            ">linux\n",
            "Filtering out linux\n",
            "file saved: 0\n",
            "file saved: 1\n",
            "file saved: 15\n",
            "file saved: 16\n",
            "file saved: 17\n",
            "file saved: 18\n",
            "file saved: 19\n",
            "file saved: 20\n",
            "file saved: 23\n",
            "waiting 10 minutes...\n"
          ]
        }
      ]
    }
  ]
}
